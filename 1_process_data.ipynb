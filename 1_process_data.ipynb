{
 "cells": [
  {
   "cell_type": "code",
   "execution_count": 1,
   "id": "b7222d4f-f49b-4f0a-8ca3-94038616d7d2",
   "metadata": {},
   "outputs": [],
   "source": [
    "import pandas as pd\n",
    "import numpy as np\n",
    "import os\n",
    "import csv\n",
    "from sklearn.model_selection import train_test_split\n",
    "from utils.utils import clean_row"
   ]
  },
  {
   "cell_type": "code",
   "execution_count": 2,
   "id": "aa188d92-84d2-4124-93fa-e7aa9f918f39",
   "metadata": {},
   "outputs": [],
   "source": [
    "# Define the directories for raw data and saving the results\n",
    "path_raw = \"data/synthetic/raw\"\n",
    "path_save = \"data/synthetic/processed\"\n"
   ]
  },
  {
   "cell_type": "code",
   "execution_count": 3,
   "id": "b1e99d4f-e61d-4b15-b2f6-ab4cf2064aea",
   "metadata": {},
   "outputs": [],
   "source": [
    "# Read all DataFrames\n",
    "listdir = os.listdir(path_raw)\n",
    "dfs = []\n",
    "for f in listdir:\n",
    "    if \"med\" not in f:\n",
    "        try:\n",
    "            df = pd.read_csv(os.path.join(path_raw, f), header=None, names=['label', 't7', 't6', 't5', 't4', 't3', 't2', 't1'])\n",
    "            dfs.append(df)\n",
    "        except Exception as e:\n",
    "            print(f\"Error reading {f}: {e}\")\n",
    "\n",
    "if not dfs:\n",
    "    raise ValueError(\"No valid data files found. Please check the data directory.\")\n"
   ]
  },
  {
   "cell_type": "code",
   "execution_count": 4,
   "id": "bf2676bb-b0fc-4f70-84c5-0e4e96b47ae8",
   "metadata": {},
   "outputs": [
    {
     "data": {
      "text/html": [
       "<div>\n",
       "<style scoped>\n",
       "    .dataframe tbody tr th:only-of-type {\n",
       "        vertical-align: middle;\n",
       "    }\n",
       "\n",
       "    .dataframe tbody tr th {\n",
       "        vertical-align: top;\n",
       "    }\n",
       "\n",
       "    .dataframe thead th {\n",
       "        text-align: right;\n",
       "    }\n",
       "</style>\n",
       "<table border=\"1\" class=\"dataframe\">\n",
       "  <thead>\n",
       "    <tr style=\"text-align: right;\">\n",
       "      <th></th>\n",
       "      <th>label</th>\n",
       "      <th>t7</th>\n",
       "      <th>t6</th>\n",
       "      <th>t5</th>\n",
       "      <th>t4</th>\n",
       "      <th>t3</th>\n",
       "      <th>t2</th>\n",
       "      <th>t1</th>\n",
       "    </tr>\n",
       "  </thead>\n",
       "  <tbody>\n",
       "    <tr>\n",
       "      <th>0</th>\n",
       "      <td>1</td>\n",
       "      <td>0</td>\n",
       "      <td>0</td>\n",
       "      <td>0</td>\n",
       "      <td>0</td>\n",
       "      <td>2</td>\n",
       "      <td>2</td>\n",
       "      <td>3</td>\n",
       "    </tr>\n",
       "    <tr>\n",
       "      <th>1</th>\n",
       "      <td>1</td>\n",
       "      <td>0</td>\n",
       "      <td>0</td>\n",
       "      <td>0</td>\n",
       "      <td>0</td>\n",
       "      <td>2</td>\n",
       "      <td>0</td>\n",
       "      <td>3</td>\n",
       "    </tr>\n",
       "    <tr>\n",
       "      <th>398</th>\n",
       "      <td>0</td>\n",
       "      <td>0</td>\n",
       "      <td>0</td>\n",
       "      <td>0</td>\n",
       "      <td>0</td>\n",
       "      <td>0</td>\n",
       "      <td>3</td>\n",
       "      <td>2</td>\n",
       "    </tr>\n",
       "    <tr>\n",
       "      <th>399</th>\n",
       "      <td>0</td>\n",
       "      <td>0</td>\n",
       "      <td>2</td>\n",
       "      <td>0</td>\n",
       "      <td>0</td>\n",
       "      <td>0</td>\n",
       "      <td>0</td>\n",
       "      <td>2</td>\n",
       "    </tr>\n",
       "  </tbody>\n",
       "</table>\n",
       "</div>"
      ],
      "text/plain": [
       "     label  t7  t6  t5  t4  t3  t2  t1\n",
       "0        1   0   0   0   0   2   2   3\n",
       "1        1   0   0   0   0   2   0   3\n",
       "398      0   0   0   0   0   0   3   2\n",
       "399      0   0   2   0   0   0   0   2"
      ]
     },
     "metadata": {},
     "output_type": "display_data"
    }
   ],
   "source": [
    "display(pd.concat([dfs[0].head(2), dfs[0].tail(2)]))"
   ]
  },
  {
   "cell_type": "code",
   "execution_count": 6,
   "id": "75c60854-d1cc-40e2-9f80-d4a2d1af2dbe",
   "metadata": {},
   "outputs": [],
   "source": [
    "# Use the first DataFrame to generate train/test indices\n",
    "label_col = 'label'\n",
    "df = dfs[0]\n",
    "X = df.drop(label_col, axis=1)\n",
    "y = df[label_col]\n",
    "\n",
    "# Generate train/test indices with stratified sampling\n",
    "X_train, X_test, y_train, y_test = train_test_split(\n",
    "    X, y, test_size=0.2, random_state=42, stratify=y)\n",
    "\n",
    "# Calculate indices for train and test sets\n",
    "indices_train = X_train.index\n",
    "indices_test = X_test.index\n",
    "\n",
    "y_train.to_csv(f\"{path_save}/../y_train.csv\")\n",
    "y_test.to_csv(f\"{path_save}/../y_test.csv\")"
   ]
  },
  {
   "cell_type": "code",
   "execution_count": 7,
   "id": "39b4e628-5da9-46f7-976b-12f4dd1db98d",
   "metadata": {},
   "outputs": [
    {
     "name": "stdout",
     "output_type": "stream",
     "text": [
      "train index: Index([190, 126, 339, 319, 277, 116, 102, 291, 289, 314], dtype='int64') \n",
      "test index: Index([271, 51, 96, 392, 351, 252, 250, 307, 396, 182], dtype='int64')\n"
     ]
    }
   ],
   "source": [
    "print(f\"train index: {indices_train[:10]} \\ntest index: {indices_test[:10]}\")"
   ]
  },
  {
   "cell_type": "code",
   "execution_count": 8,
   "id": "433b012d-f30c-4661-ab03-179b2d9b5113",
   "metadata": {
    "scrolled": true
   },
   "outputs": [
    {
     "name": "stdout",
     "output_type": "stream",
     "text": [
      "train set cleaned and saved to data/synthetic/processed/Train_feature1.csv\n",
      "test set cleaned and saved to data/synthetic/processed/Test_feature1.csv\n"
     ]
    }
   ],
   "source": [
    "# Apply the same split to all DataFrames and clean rows\n",
    "for i, df in enumerate(dfs):\n",
    "    train_df = df.loc[indices_train]\n",
    "    test_df = df.loc[indices_test]\n",
    "    \n",
    "    # Clean and save the train set\n",
    "    train_filename = os.path.join(path_save, f'Train_{listdir[i]}')\n",
    "    with open(train_filename, 'w') as file:\n",
    "        writer = csv.writer(file, delimiter=',', lineterminator='\\n')\n",
    "        for _, rows in train_df.iterrows():\n",
    "            if len(clean_row(rows.iloc[1:])) > 1:\n",
    "                row_cleaned = np.concatenate([[rows.iloc[0]], clean_row(rows.iloc[1:])])\n",
    "                row_cleaned = [str(x).strip() for x in row_cleaned]  # 去掉行末换行符\n",
    "                writer.writerow(row_cleaned)\n",
    "            else:\n",
    "                writer.writerow([rows.iloc[0]])\n",
    "    \n",
    "    # Clean and save the test set\n",
    "    test_filename = os.path.join(path_save, f'Test_{listdir[i]}')\n",
    "    with open(test_filename, 'w') as file:\n",
    "        writer = csv.writer(file, delimiter=',', lineterminator='\\n')\n",
    "        for _, rows in test_df.iterrows():\n",
    "            if len(clean_row(rows.iloc[1:])) > 1:\n",
    "                row_cleaned = np.concatenate([[rows.iloc[0]], clean_row(rows.iloc[1:])])\n",
    "                row_cleaned = [str(x).strip() for x in row_cleaned]  # 去掉行末换行符\n",
    "                writer.writerow(row_cleaned)\n",
    "            else:\n",
    "                writer.writerow([rows.iloc[0]])    \n",
    "                \n",
    "    print(f\"train set cleaned and saved to {train_filename}\")\n",
    "    print(f\"test set cleaned and saved to {test_filename}\")\n",
    "    "
   ]
  },
  {
   "cell_type": "code",
   "execution_count": null,
   "id": "987ade10-8607-4155-a349-a66cefa11f48",
   "metadata": {},
   "outputs": [],
   "source": []
  },
  {
   "cell_type": "code",
   "execution_count": null,
   "id": "4cee34c7-64dc-4eb4-a771-fb39538fc4eb",
   "metadata": {},
   "outputs": [],
   "source": []
  }
 ],
 "metadata": {
  "kernelspec": {
   "display_name": "Python 3 (ipykernel)",
   "language": "python",
   "name": "python3"
  },
  "language_info": {
   "codemirror_mode": {
    "name": "ipython",
    "version": 3
   },
   "file_extension": ".py",
   "mimetype": "text/x-python",
   "name": "python",
   "nbconvert_exporter": "python",
   "pygments_lexer": "ipython3",
   "version": "3.11.5"
  }
 },
 "nbformat": 4,
 "nbformat_minor": 5
}
